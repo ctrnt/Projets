{
 "cells": [
  {
   "cell_type": "code",
   "execution_count": null,
   "id": "6d3cb36e",
   "metadata": {},
   "outputs": [],
   "source": [
    "import numpy as np\n",
    "from gstools import Gaussian, krige"
   ]
  },
  {
   "cell_type": "code",
   "execution_count": null,
   "id": "63815a85",
   "metadata": {},
   "outputs": [],
   "source": [
    "coords = [(48.8566, 2.3522), (43.2965, 5.3698), (47.2184, -1.5536), (43.6108, 3.8767), (50.6292, 3.0573),\n",
    "          (48.1173, -1.6778), (43.6043, 1.4437), (47.4784, -0.0638), (48.3904, -4.4861), (45.7640, 4.8357), \n",
    "          (49.4431, 1.0993), (43.7023, 7.2692), (44.8378, -0.5792), (46.2276, 2.2137), (48.7981, 2.4400),\n",
    "          (44.8404, -0.5805), (43.5831, 7.1096), (50.6956, 3.1779), (43.2965, 5.3698), (45.4408, 4.3859), \n",
    "          (48.3904, -4.4861), (43.7031, 7.2663), (48.0783, -1.6800), (47.9948, 0.1911),(50.6292, 3.0573),\n",
    "          (47.2184, -1.5536), (44.8378, -0.5792), (43.6043, 1.4437), (46.2276, 2.2137), (43.6108, 3.8767)]\n",
    "\n",
    "x = np.array([coord[0] for coord in coords])\n",
    "y = np.array([coord[1] for coord in coords])\n",
    "\n",
    "temp = np.array([11.6, 13.2, 14.5, 10.1, 8.9, 15.7, 12.5, 11.8, 9.5, 13.0, 7.8, 16.2, 12.4, 11.5, 10.3, \n",
    "                 14.9, 12.7, 9.4, 15.3, 10.6, 8.8, 14.3, 13.1, 12.0, 10.5, 11.3, 13.4, 11.9, 13.7, 12.2])"
   ]
  },
  {
   "cell_type": "code",
   "execution_count": null,
   "id": "28e80570",
   "metadata": {},
   "outputs": [],
   "source": []
  },
  {
   "cell_type": "code",
   "execution_count": null,
   "id": "7e0cac7d",
   "metadata": {},
   "outputs": [],
   "source": []
  },
  {
   "cell_type": "code",
   "execution_count": null,
   "id": "947737b9",
   "metadata": {},
   "outputs": [],
   "source": []
  }
 ],
 "metadata": {
  "kernelspec": {
   "display_name": "Python 3 (ipykernel)",
   "language": "python",
   "name": "python3"
  },
  "language_info": {
   "codemirror_mode": {
    "name": "ipython",
    "version": 3
   },
   "file_extension": ".py",
   "mimetype": "text/x-python",
   "name": "python",
   "nbconvert_exporter": "python",
   "pygments_lexer": "ipython3",
   "version": "3.9.13"
  }
 },
 "nbformat": 4,
 "nbformat_minor": 5
}
